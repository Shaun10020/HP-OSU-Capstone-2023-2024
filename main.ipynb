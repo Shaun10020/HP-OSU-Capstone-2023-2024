{
 "cells": [
  {
   "cell_type": "code",
   "execution_count": 13,
   "metadata": {},
   "outputs": [],
   "source": [
    "\n",
    "from config.args import get_arguments\n",
    "from config.config import features,labels,duplex_labels,train_test_ratio,label_extension,threshold, train_val_ratio\n",
    "from dataloader.load_data import SimplexDataset, DuplexDataset, InputSimplexDataset, InputDuplexDataset, load_dataloader\n",
    "from utils.load_json import load_results\n",
    "from utils.save_load_model import load\n",
    "from utils.convert import convertBinary\n",
    "from model.UNet import UNet\n",
    "from model.ENet import ENet\n",
    "from model.DeepLabV3 import CustomDeepLabV3\n",
    "from train.train import Train\n",
    "from train.test import Test\n",
    "\n",
    "import logging\n",
    "import os\n",
    "import torch\n",
    "import json\n",
    "from torchvision.transforms.functional import to_pil_image\n",
    "from torch.utils.data import random_split, DataLoader"
   ]
  },
  {
   "cell_type": "code",
   "execution_count": 14,
   "metadata": {},
   "outputs": [],
   "source": [
    "def train(model,dataset):\n",
    "    train_set, test_set = random_split(dataset,train_test_ratio,torch.Generator())\n",
    "    train = Train(model,device,train_set,args)\n",
    "    train.run()\n",
    "    \n",
    "    model = load(model,args)\n",
    "    test = Test(model,device,test_set,int(args.batch))\n",
    "    test.run()\n",
    "    \n",
    "    train.save_plot()\n",
    "\n",
    "def test(model,dataset):\n",
    "    model = load(model,args)\n",
    "    test = Test(model,device,dataset,int(args.batch))\n",
    "    test.run()\n",
    "\n",
    "def inference(model):\n",
    "    if not os.path.exists(args.output_folder):\n",
    "        os.mkdir(args.output_folder)\n",
    "    model.eval()\n",
    "    model.to(device)\n",
    "    if args.dataset == \"simplex\":\n",
    "        data = InputSimplexDataset(args)\n",
    "    elif args.dataset == \"duplex\":\n",
    "        data = InputDuplexDataset(args)\n",
    "    loader = DataLoader(data,batch_size = int(args.batch))\n",
    "    \n",
    "    json_name = \"\"\n",
    "    intermediate = []\n",
    "    for batch in loader:\n",
    "        input = batch[2].to(device)\n",
    "        outputs = model(input.float())\n",
    "        outputs = convertBinary(outputs)\n",
    "        for name,pn,output in zip(batch[0],batch[1],outputs):\n",
    "            if not json_name:\n",
    "                json_name = name\n",
    "            if json_name != name:\n",
    "                fp = open(os.path.join(args.output_folder,json_name,\"results.json\"),\"w\")\n",
    "                json.dump({\"intermediate_results\":intermediate},fp)\n",
    "                fp.close()\n",
    "                json_name = name\n",
    "                intermediate = []\n",
    "            pn = pn.item()\n",
    "            pgnum = (4-len(str(pn)))*\"0\" + str(pn)\n",
    "            json_instance = {\"pdf_filename\":name+\".pdf\",\"page_num\":pn,\"intermediate_dir\":\"intermediate_results/\"+pgnum}\n",
    "            path = os.path.join(args.output_folder,name)\n",
    "            if not os.path.exists(path):\n",
    "                os.mkdir(path)\n",
    "            path = os.path.join(path,\"intermediate_results\")\n",
    "            if not os.path.exists(path):\n",
    "                os.mkdir(path)\n",
    "            if args.dataset == \"simplex\":\n",
    "                path = os.path.join(path,pgnum)\n",
    "                if not os.path.exists(path):\n",
    "                    os.mkdir(path)\n",
    "                for i, label in enumerate(labels):\n",
    "                    to_pil_image(output[i]).save(os.path.join(path,f'''{label}{label_extension}'''))\n",
    "                    json_instance[label] = json_instance[\"intermediate_dir\"]+\"/\"+str(label)+str(label_extension)\n",
    "                intermediate.append(json_instance)\n",
    "            \n",
    "            elif args.dataset == \"duplex\":\n",
    "                pgnum2 = (4-len(str(pn)))*\"0\" + str(pn+1)\n",
    "                json_instance2 = {\"pdf_filename\":name+\".pdf\",\"page_num\":pn+1,\"intermediate_dir\":\"intermediate_results/\"+pgnum2}\n",
    "                path2 = os.path.join(path,pgnum2)\n",
    "                path = os.path.join(path,pgnum)\n",
    "                if not os.path.exists(path):\n",
    "                    os.mkdir(path)\n",
    "                if not os.path.exists(path2):\n",
    "                    os.mkdir(path2)\n",
    "                cur = 0\n",
    "                for i, label in enumerate(labels):\n",
    "                    to_pil_image(output[cur + i]).save(os.path.join(path,f'''{label}{label_extension}'''))\n",
    "                    json_instance[label] = json_instance[\"intermediate_dir\"]+\"/\"+str(label)+str(label_extension)\n",
    "                cur += len(labels)\n",
    "                for i, label in enumerate(duplex_labels):\n",
    "                    to_pil_image(output[cur + i]).save(os.path.join(path,f'''{label}{label_extension}'''))\n",
    "                    json_instance[label] = json_instance[\"intermediate_dir\"]+\"/\"+str(label)+str(label_extension)\n",
    "                cur += len(duplex_labels)\n",
    "                for i, label in enumerate(labels):\n",
    "                    to_pil_image(output[cur + i]).save(os.path.join(path2,f'''{label}{label_extension}'''))\n",
    "                    json_instance2[label] = json_instance2[\"intermediate_dir\"]+\"/\"+str(label)+str(label_extension)\n",
    "                intermediate.append(json_instance)\n",
    "                intermediate.append(json_instance2)"
   ]
  },
  {
   "cell_type": "code",
   "execution_count": 15,
   "metadata": {},
   "outputs": [],
   "source": [
    "class default:\n",
    "    def __init__(self):\n",
    "        self.input_folder = \"./data/cache/DP_a2200_xml_ff2c81d8ad6655f915cbaa558ee7bf9e878730a8\"\n",
    "        self.output_folder = \"./output\"\n",
    "        self.label_folder = \"./data/output/DP_a2200_xml_ff2c81d8ad6655f915cbaa558ee7bf9e878730a8\"\n",
    "        self.save_folder = \"./checkpoints\"\n",
    "        self.model = \"unet\"\n",
    "        self.mode = \"train\"\n",
    "        self.epoch = 5\n",
    "        self.lr = 1e-5\n",
    "        self.batch = 10\n",
    "        self.dataset = \"simplex\"\n",
    "        \n",
    "args = default()\n",
    "device = torch.device(\"cuda\") if torch.cuda.is_available() else torch.device(\"cpu\")"
   ]
  },
  {
   "cell_type": "code",
   "execution_count": 16,
   "metadata": {},
   "outputs": [
    {
     "name": "stderr",
     "output_type": "stream",
     "text": [
      "INFO: Using device: cuda\n",
      "INFO: Preparing SimplexDataset...\n",
      "INFO: Finished preparing SimplexDataset\n",
      "INFO: Total 53 samples\n",
      "INFO: Initializing UNet Model...\n",
      "INFO: Done initialize UNet Model\n"
     ]
    }
   ],
   "source": [
    "logging.basicConfig(level=logging.INFO, format='%(levelname)s: %(message)s')\n",
    "logging.info(f'''Using device: {device}''')\n",
    "\n",
    "n_input = len(features) if args.dataset == 'simplex' else 2*len(features)\n",
    "n_output = len(labels) if args.dataset == 'simplex' else 2*len(labels)+len(duplex_labels)\n",
    "if args.mode != 'inference':\n",
    "    pdf,algorithm,intermediate = load_results(args.label_folder)\n",
    "    if args.dataset =='simplex':\n",
    "        dataset = SimplexDataset(args.input_folder,args.label_folder,intermediate)\n",
    "    else:\n",
    "        dataset = DuplexDataset(args.input_folder,args.label_folder,intermediate)\n",
    "        \n",
    "if args.model == 'unet':\n",
    "    model = UNet(n_input,n_output)\n",
    "elif args.model == 'enet':\n",
    "    model = ENet(n_input,n_output)\n",
    "elif args.model == 'deeplabv3':\n",
    "    model = CustomDeepLabV3(n_output)\n",
    "    \n"
   ]
  },
  {
   "cell_type": "code",
   "execution_count": 17,
   "metadata": {},
   "outputs": [
    {
     "name": "stderr",
     "output_type": "stream",
     "text": [
      "INFO: Initializing training script...\n",
      "INFO: Preparing Dataloader...\n",
      "INFO: Done preparing Dataloader\n",
      "INFO: Done initialize training script\n"
     ]
    }
   ],
   "source": [
    "train = Train(model,device,dataset,args)\n",
    "# train.run()\n",
    "batch = next(iter(train.train_dataloader)) \n",
    "inputs, labels = batch[0].to(train.device), batch[1].to(train.device)\n",
    "preds = train.model(inputs.float())"
   ]
  },
  {
   "cell_type": "code",
   "execution_count": 12,
   "metadata": {},
   "outputs": [
    {
     "data": {
      "text/plain": [
       "tensor([0.5536, 0.4413, 0.4860, 0.4658, 0.5008, 0.4639, 0.5059, 0.4479, 0.5090,\n",
       "        0.4538, 0.4963, 0.4350, 0.4957, 0.4545, 0.4925, 0.4307, 0.4943, 0.4519,\n",
       "        0.4955, 0.4308, 0.4859, 0.4369, 0.4914, 0.4493, 0.4809, 0.4434, 0.4941,\n",
       "        0.4451, 0.4810, 0.4446, 0.4932, 0.4433, 0.4907, 0.4472, 0.4998, 0.4454,\n",
       "        0.4878, 0.4502, 0.4927, 0.4495, 0.4906, 0.4456, 0.4943, 0.4381, 0.4842,\n",
       "        0.4482, 0.4854, 0.4421, 0.4881, 0.4480, 0.5026, 0.4435, 0.4866, 0.4451,\n",
       "        0.4894, 0.4495, 0.4909, 0.4505, 0.4938, 0.4440, 0.4813, 0.4459, 0.4888,\n",
       "        0.4439, 0.4884, 0.4490, 0.5009, 0.4425, 0.4844, 0.4474, 0.4918, 0.4496,\n",
       "        0.4909, 0.4482, 0.4931, 0.4438, 0.4847, 0.4483, 0.4882, 0.4436, 0.4900,\n",
       "        0.4486, 0.5000, 0.4422, 0.4843, 0.4486, 0.4915, 0.4489, 0.4901, 0.4498,\n",
       "        0.4929, 0.4429, 0.4835, 0.4499, 0.4883, 0.4447, 0.4886, 0.4472, 0.4967,\n",
       "        0.4421, 0.4792, 0.4512, 0.4942, 0.4529, 0.4823, 0.4563, 0.4841, 0.4442,\n",
       "        0.4816, 0.4401, 0.4839, 0.4474, 0.4913, 0.4470, 0.5006, 0.4451, 0.4843,\n",
       "        0.4442, 0.4900, 0.4476, 0.4902, 0.4471, 0.4929, 0.4429, 0.4843, 0.4469,\n",
       "        0.4886, 0.4448, 0.4887, 0.4488, 0.5022, 0.4435, 0.4849, 0.4478, 0.4904,\n",
       "        0.4477, 0.4905, 0.4489, 0.4932, 0.4432, 0.4841, 0.4480, 0.4892, 0.4445,\n",
       "        0.4885, 0.4483, 0.5020, 0.4437, 0.4850, 0.4479, 0.4903, 0.4479, 0.4903,\n",
       "        0.4488, 0.4933, 0.4436, 0.4842, 0.4478, 0.4890, 0.4445, 0.4886, 0.4483,\n",
       "        0.5016, 0.4437, 0.4848, 0.4482, 0.4903, 0.4478, 0.4903, 0.4486, 0.4933,\n",
       "        0.4434, 0.4841, 0.4482, 0.4892, 0.4444, 0.4886, 0.4489, 0.5016, 0.4432,\n",
       "        0.4845, 0.4485, 0.4897, 0.4472, 0.4899, 0.4477, 0.4930, 0.4443, 0.4838,\n",
       "        0.4474, 0.4907, 0.4459, 0.4914, 0.4435, 0.4992, 0.4489, 0.4850, 0.4485,\n",
       "        0.4863, 0.4502, 0.4918, 0.4499, 0.4931, 0.4442, 0.4841, 0.4486, 0.4894,\n",
       "        0.4442, 0.4887, 0.4479, 0.5001, 0.4430, 0.4851, 0.4468, 0.4904, 0.4456,\n",
       "        0.4884, 0.4469, 0.4933, 0.4437, 0.4820, 0.4475, 0.4923, 0.4427, 0.4899,\n",
       "        0.4437, 0.5003, 0.4417, 0.4841, 0.4427, 0.4952, 0.4460, 0.4965, 0.4427,\n",
       "        0.4966, 0.4530, 0.4938, 0.4465, 0.4923, 0.4492, 0.4965, 0.4506, 0.4976,\n",
       "        0.4546, 0.4908, 0.4487, 0.4895, 0.4577, 0.4942, 0.4575, 0.4941, 0.4597,\n",
       "        0.4887, 0.4518, 0.4913, 0.4565, 0.4968, 0.4533, 0.4982, 0.4558, 0.4904,\n",
       "        0.4493, 0.4926, 0.4573, 0.4977, 0.4589, 0.4873, 0.4607, 0.4904, 0.4569,\n",
       "        0.4958, 0.4610, 0.4846, 0.4511, 0.4887, 0.4528, 0.4967, 0.4608, 0.4890,\n",
       "        0.4561, 0.4814, 0.4530, 0.4532, 0.4745, 0.4583, 0.4498, 0.4820, 0.4570,\n",
       "        0.4869, 0.4676, 0.4775, 0.4710, 0.4844, 0.4528, 0.4501, 0.4664, 0.4494,\n",
       "        0.5634, 0.4800, 0.5071], device='cuda:0', grad_fn=<SelectBackward0>)"
      ]
     },
     "execution_count": 12,
     "metadata": {},
     "output_type": "execute_result"
    }
   ],
   "source": [
    "preds[0]"
   ]
  }
 ],
 "metadata": {
  "kernelspec": {
   "display_name": "Python 3",
   "language": "python",
   "name": "python3"
  },
  "language_info": {
   "codemirror_mode": {
    "name": "ipython",
    "version": 3
   },
   "file_extension": ".py",
   "mimetype": "text/x-python",
   "name": "python",
   "nbconvert_exporter": "python",
   "pygments_lexer": "ipython3",
   "version": "3.11.7"
  }
 },
 "nbformat": 4,
 "nbformat_minor": 2
}
